{
 "cells": [
  {
   "cell_type": "markdown",
   "metadata": {},
   "source": [
    "# Web Scraper\n"
   ]
  },
  {
   "cell_type": "code",
   "execution_count": null,
   "metadata": {},
   "outputs": [],
   "source": [
    "\"\"\"\n",
    "Authored by Bryce Burgess\n",
    "6/10/2019\n",
    "search the web for images of a given size, keywords\n",
    "\"\"\"\n",
    "import scrapy"
   ]
  },
  {
   "cell_type": "markdown",
   "metadata": {},
   "source": []
  },
  {
   "cell_type": "code",
   "execution_count": null,
   "metadata": {},
   "outputs": [],
   "source": [
    "\n",
    "class QuotesSpider(scrapy.Spider):\n",
    "    # what is a spider? how to scrape a site or group of sites, how to extract data from those sites\n",
    "\n",
    "    name=\"quotes\"# this is the command line command for running this class\n",
    "    # would be run as $ scrapy crawl quotes\n",
    "\n",
    "    # required function, must return an iterable of Requests. There is a default function,\n",
    "    # which will search through \n",
    "    start_urls = []\n",
    "\n",
    "    def start_requests(self):\n",
    "        \"\"\"\n",
    "        returns an iterable of requests from urls\n",
    "        \"\"\"\n",
    "        urls = [\n",
    "            \"http://quotes.toscrape.com/page/1/\",\n",
    "            \"http://quotes.toscrape.com/page/2/\"\n",
    "        ]\n",
    "\n",
    "        for url in urls:\n",
    "            # how does yield work?\n",
    "            yield scrapy.Request(url=url, callback=self.parse)\n",
    "\n",
    "    def parse(self, response):\n",
    "        \"\"\"\n",
    "        how to interpret requests?\n",
    "        \"\"\"\n",
    "        page=response.url.split(\"/\")[-2]\n",
    "        filename=f\"quotes-{page}.html\"\n",
    "        with open(filename, \"wb\") as f:\n",
    "            f.write(response.body)\n",
    "        self.log(f\"saved file {filename}\")"
   ]
  },
  {
   "cell_type": "code",
   "execution_count": null,
   "metadata": {},
   "outputs": [],
   "source": []
  },
  {
   "cell_type": "markdown",
   "metadata": {},
   "source": []
  },
  {
   "cell_type": "code",
   "execution_count": null,
   "metadata": {},
   "outputs": [],
   "source": []
  }
 ],
 "metadata": {
  "kernelspec": {
   "display_name": "Python 3",
   "language": "python",
   "name": "python3"
  },
  "language_info": {
   "codemirror_mode": {
    "name": "ipython",
    "version": 3
   },
   "file_extension": ".py",
   "mimetype": "text/x-python",
   "name": "python",
   "nbconvert_exporter": "python",
   "pygments_lexer": "ipython3",
   "version": "3.7.4"
  }
 },
 "nbformat": 4,
 "nbformat_minor": 2
}
