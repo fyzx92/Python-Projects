{
 "cells": [
  {
   "cell_type": "markdown",
   "metadata": {},
   "source": [
    "# Recurrent Neural Network\n",
    "Most neural networks are strictly feed forward, information stricly passes in one direction. Recurrent neural networks allow for each neuron to have a degree of memory. Unlike a feedforward network, in which all inputs are given at the same time to get a given prediction, a recurrent network takes the inputs in sequence. This allows it to have variable input sizes, and for it to remember context from previous entries to determine its final output. This memory is implemented by having a hidden state which acts as an additional input when computing the input sum.\n",
    "\n",
    "These can have many different input-output relationships. One input to one output, one input to many outputs, many inputs to one output, many inputs to many outputs. What about the network determines this relationship? \n",
    "\n",
    "One can use these to form deep networks, and (HOW?) bidirectional recurrent networks, so that the answer in response to each individual input is influenced by terms to either side of it.\n",
    "\n",
    "To train them typically uses a technique called backpropagation through time"
   ]
  },
  {
   "cell_type": "markdown",
   "metadata": {},
   "source": [
    "I want to try and build a recurrent perceptron before using a tutorial."
   ]
  },
  {
   "cell_type": "code",
   "execution_count": 35,
   "metadata": {},
   "outputs": [
    {
     "name": "stdout",
     "output_type": "stream",
     "text": [
      "[0.47342063 0.15894327 0.14395227 0.9153911  0.68048784 0.27387038\n",
      " 0.79783007 0.88251751 0.41901204 0.78973376]\n"
     ]
    }
   ],
   "source": [
    "import numpy as np\n",
    "# input weights [x]\n",
    "# activation function\n",
    "# summation function [x]\n",
    "# recurrent input\n",
    "hidden = 0\n",
    "data = np.random.rand(100,10)\n",
    "print(data[0])\n",
    "\n",
    "in_sum = lambda inputs, weights, hidden: sum([I*weights[i] for i,I in enumerate(inputs)]) + weights[-1] + hidden*weights[-2]"
   ]
  },
  {
   "cell_type": "code",
   "execution_count": 36,
   "metadata": {},
   "outputs": [
    {
     "name": "stdout",
     "output_type": "stream",
     "text": [
      "[0.17623150320918202, 0.5068812749961614, 0.416745930305772, 0.7292686989886881, 0.4243848213329646, 0.8518392773105591, 0.5794510341393019, 0.9839643012276529, 0.8672920092948115, 0.9394072333358681, 0.3868266369347543, 0.6702407990174428]\n"
     ]
    }
   ],
   "source": [
    "for d in data:\n",
    "    inputs = d\n",
    "    weights = [np.random.random() for i in range(len(inputs)+2)] # weights at index -1 will be bias, weights at -2 will be recurrent\n",
    "\n",
    "    activation = max(0, in_sum(inputs, weights, hidden)) # ReLu activation, also try ELU\n",
    "    # activation = np.log(1+exp(in_sum(inputs, weights, hidden))) # softplus\n",
    "    # acivation = max(0.01*in_sum(inputs, weights, hidden), in_sum(inputs, weights, hidden)) # Leaky relu\n",
    "    hidden = activation\n",
    "\n",
    "print(weights)\n"
   ]
  },
  {
   "cell_type": "markdown",
   "metadata": {},
   "source": [
    "Thus far, it will make 100 predictions, but it doesn't yet have the ability to learn from them."
   ]
  },
  {
   "cell_type": "code",
   "execution_count": null,
   "metadata": {},
   "outputs": [],
   "source": []
  },
  {
   "cell_type": "markdown",
   "metadata": {},
   "source": [
    "For our first real RNN, try the Elman network from: https://www.cpuheater.com/deep-learning/introduction-to-recurrent-neural-networks-in-pytorch/\n",
    "\n",
    "This has three layers: a single input neuron, with three recurrent neurons in the hidden layer, and a single output neuron.\n",
    "\n",
    "This uses pytorch for constructing and manipulating the network. It will be used to predict a sine wave"
   ]
  },
  {
   "cell_type": "code",
   "execution_count": 17,
   "metadata": {},
   "outputs": [],
   "source": [
    "import torch\n",
    "from torch.autograd import Variable\n",
    "import numpy as np\n",
    "import matplotlib.pyplot as plt\n",
    "import torch.nn.init"
   ]
  },
  {
   "cell_type": "markdown",
   "metadata": {},
   "source": [
    "Setting some hyperparameters: the network structure, how much to train it, how long a sequence of inputs should be, and the learning rate"
   ]
  },
  {
   "cell_type": "code",
   "execution_count": 4,
   "metadata": {},
   "outputs": [],
   "source": [
    "dtype=torch.FloatTensor\n",
    "input_size = 7\n",
    "hidden_size = 6\n",
    "output_size = 1\n",
    "epochs = 300\n",
    "seq_length = 20\n",
    "lr = .01"
   ]
  },
  {
   "cell_type": "markdown",
   "metadata": {},
   "source": [
    "Additionally, we need to generate training data. In this case, the data is a sine wave. In more practical examples, this would be imported and cleaned data of some kind. What is Variable?\n",
    "\n",
    "linspace generates a list of `seq_length+1` values with equal intervals, starting from `2` and ending at `10`."
   ]
  },
  {
   "cell_type": "code",
   "execution_count": 6,
   "metadata": {},
   "outputs": [
    {
     "name": "stdout",
     "output_type": "stream",
     "text": [
      "[ 2.   2.4  2.8  3.2  3.6  4.   4.4  4.8  5.2  5.6  6.   6.4  6.8  7.2\n",
      "  7.6  8.   8.4  8.8  9.2  9.6 10. ]\n"
     ]
    }
   ],
   "source": [
    "data_time_steps = np.linspace(2,10, seq_length+1)\n",
    "print(data_time_steps)\n",
    "data = np.sin(data_time_steps)\n",
    "data.resize((seq_length + 1, 1))\n",
    "\n",
    "x = Variable(torch.Tensor(data[:-1]).type(dtype), requires_grad=False)\n",
    "y = Variable(torch.Tensor(data[1:] ).type(dtype), requires_grad=False)"
   ]
  },
  {
   "cell_type": "markdown",
   "metadata": {},
   "source": [
    "Next we need to create weight matrices both for the input to hidden connection, and for the hidden to output connection. Since these are the parts of the network that will be changing\n",
    "what does init do?\n",
    "why convert to Variable?"
   ]
  },
  {
   "cell_type": "code",
   "execution_count": 9,
   "metadata": {},
   "outputs": [],
   "source": [
    "w1 = torch.FloatTensor(input_size, hidden_size).type(dtype)\n",
    "torch.nn.init.normal_(w1, 0.0, 0.4)\n",
    "w1 = Variable(w1, requires_grad=True)\n",
    "\n",
    "w2 = torch.FloatTensor(hidden_size, output_size).type(dtype)\n",
    "torch.nn.init.normal_(w2, 0.0, 0.3)\n",
    "w2 = Variable(w2, requires_grad=True)"
   ]
  },
  {
   "cell_type": "markdown",
   "metadata": {},
   "source": [
    "Context state is a representation of what it has seen so far of the sequence."
   ]
  },
  {
   "cell_type": "code",
   "execution_count": 10,
   "metadata": {},
   "outputs": [],
   "source": [
    "def forward(input, context_state, w1, w2):\n",
    "    xh = torch.cat((input, context_state), 1)\n",
    "    context_state = torch.tanh(xh.mm(w1))\n",
    "    out = context_state.mm(w2)\n",
    "    return (out, context_state)"
   ]
  },
  {
   "cell_type": "markdown",
   "metadata": {},
   "source": []
  },
  {
   "cell_type": "code",
   "execution_count": 13,
   "metadata": {},
   "outputs": [],
   "source": [
    "for i in range(epochs):\n",
    "    total_loss = 0\n",
    "    \n",
    "    # what does this do?\n",
    "    context_state = Variable(torch.zeros((1,hidden_size)).type(dtype), requires_grad=True)\n",
    "    \n",
    "    for j in range(x.size(0)):\n",
    "        # get inputs and outputs\n",
    "        input = x[j:(j+1)]\n",
    "        target = y[j:(j+1)]\n",
    "        \n",
    "        # create a prediction, and update the context\n",
    "        (pred, context_state) = forward(input, context_state, w1, w2)\n",
    "        \n",
    "        # calculate loss\n",
    "        loss = (pred - target).pow(2).sum()/2\n",
    "        total_loss += loss\n",
    "        loss.backward() # figure out the gradient from the loss back to the weights\n",
    "        \n",
    "        # change the weights for both weight matrices\n",
    "        w1.data -= lr*w1.grad.data\n",
    "        w2.data -= lr*w2.grad.data\n",
    "        \n",
    "        \n",
    "        w1.grad.data.zero_()\n",
    "        w2.grad.data.zero_()\n",
    "        \n",
    "        context_state = Variable(context_state.data)\n",
    "        \n",
    "    #if i%10 == 0:\n",
    "    #    print(f\"Epoch: {i} loss {total_loss.data[0]}\")\n"
   ]
  },
  {
   "cell_type": "code",
   "execution_count": 25,
   "metadata": {},
   "outputs": [
    {
     "name": "stdout",
     "output_type": "stream",
     "text": [
      "20\n"
     ]
    }
   ],
   "source": [
    "print(len(x[0:]))\n"
   ]
  },
  {
   "cell_type": "code",
   "execution_count": 26,
   "metadata": {},
   "outputs": [
    {
     "data": {
      "text/plain": [
       "<matplotlib.collections.PathCollection at 0x1b6eedebdc8>"
      ]
     },
     "execution_count": 26,
     "metadata": {},
     "output_type": "execute_result"
    },
    {
     "data": {
      "image/png": "[encoded data removed]",
      "text/plain": [
       "<Figure size 432x288 with 1 Axes>"
      ]
     },
     "metadata": {
      "needs_background": "light"
     },
     "output_type": "display_data"
    }
   ],
   "source": [
    "context_state = Variable(torch.zeros((1,hidden_size)).type(dtype),requires_grad=False)\n",
    "predictions = []\n",
    "\n",
    "for i in range(x.size(0)):\n",
    "    input = x[i:i+1]\n",
    "    (pred,context_state)=forward(input,context_state, w1, w2)\n",
    "    predictions.append(pred.data.numpy().ravel()[0])\n",
    "\n",
    "plt.figure()\n",
    "plt.scatter(np.linspace(2,10,20), x[0:])\n",
    "plt.scatter(np.linspace(2,10,20), predictions)"
   ]
  },
  {
   "cell_type": "markdown",
   "metadata": {},
   "source": [
    "# LSTM\n",
    "Try for an LSTM perceptron?\n"
   ]
  },
  {
   "cell_type": "code",
   "execution_count": null,
   "metadata": {},
   "outputs": [],
   "source": []
  },
  {
   "cell_type": "code",
   "execution_count": null,
   "metadata": {},
   "outputs": [],
   "source": []
  },
  {
   "cell_type": "code",
   "execution_count": null,
   "metadata": {},
   "outputs": [],
   "source": []
  },
  {
   "cell_type": "code",
   "execution_count": null,
   "metadata": {},
   "outputs": [],
   "source": []
  },
  {
   "cell_type": "markdown",
   "metadata": {},
   "source": [
    "# LSTM Guide with pytorch\n",
    "https://blog.floydhub.com/long-short-term-memory-from-zero-to-hero-with-pytorch/"
   ]
  },
  {
   "cell_type": "code",
   "execution_count": null,
   "metadata": {},
   "outputs": [],
   "source": []
  },
  {
   "cell_type": "code",
   "execution_count": null,
   "metadata": {},
   "outputs": [],
   "source": []
  },
  {
   "cell_type": "code",
   "execution_count": null,
   "metadata": {},
   "outputs": [],
   "source": []
  },
  {
   "cell_type": "code",
   "execution_count": null,
   "metadata": {},
   "outputs": [],
   "source": []
  },
  {
   "cell_type": "code",
   "execution_count": null,
   "metadata": {},
   "outputs": [],
   "source": []
  },
  {
   "cell_type": "code",
   "execution_count": null,
   "metadata": {},
   "outputs": [],
   "source": []
  },
  {
   "cell_type": "code",
   "execution_count": null,
   "metadata": {},
   "outputs": [],
   "source": []
  },
  {
   "cell_type": "code",
   "execution_count": null,
   "metadata": {},
   "outputs": [],
   "source": []
  },
  {
   "cell_type": "code",
   "execution_count": null,
   "metadata": {},
   "outputs": [],
   "source": []
  }
 ],
 "metadata": {
  "kernelspec": {
   "display_name": "Python 3",
   "language": "python",
   "name": "python3"
  },
  "language_info": {
   "codemirror_mode": {
    "name": "ipython",
    "version": 3
   },
   "file_extension": ".py",
   "mimetype": "text/x-python",
   "name": "python",
   "nbconvert_exporter": "python",
   "pygments_lexer": "ipython3",
   "version": "3.7.4"
  }
 },
 "nbformat": 4,
 "nbformat_minor": 2
}
