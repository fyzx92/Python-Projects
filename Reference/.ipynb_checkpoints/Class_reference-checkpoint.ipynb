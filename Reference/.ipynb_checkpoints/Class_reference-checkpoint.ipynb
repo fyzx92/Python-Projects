{
 "cells": [
  {
   "cell_type": "markdown",
   "metadata": {},
   "source": []
  },
  {
   "cell_type": "code",
   "execution_count": 10,
   "metadata": {},
   "outputs": [
    {
     "name": "stdout",
     "output_type": "stream",
     "text": [
      "2\n",
      "2\n",
      "3\n",
      "3 2\n",
      "3 3\n",
      "4\n",
      "executing foo, 1\n",
      "executing cls_foo, 1\n",
      "executing cls_foo, 1\n",
      "executing static_foo, 1\n",
      "executing static_foo, 1\n"
     ]
    }
   ],
   "source": [
    "       \n",
    "class A():\n",
    "    # class variables can be declared outside of init.\n",
    "    b = 2\n",
    "    \n",
    "    # constructor, declare instance variables\n",
    "    def __init__(self):\n",
    "        self.c = 3\n",
    "    \n",
    "    def foo(self, x):\n",
    "        print(f\"executing foo, {x}\")\n",
    "    \n",
    "    @classmethod\n",
    "    def cls_foo(cls, x):\n",
    "        print(f\"executing cls_foo, {x}\")\n",
    "    \n",
    "    @staticmethod\n",
    "    def static_foo(x):\n",
    "        print(f\"executing static_foo, {x}\")\n",
    "\n",
    "        \n",
    "print(a.b)\n",
    "print(A.b)\n",
    "\n",
    "print(a.c) # c can only be called from an instance\n",
    "#print(A.c)\n",
    "\n",
    "a.b += 1 # changing value in instance does not change it for class\n",
    "print(a.b, A.b)\n",
    "\n",
    "a = A()\n",
    "A.b+=1 # changing class value also changes it for instance\n",
    "print(a.b, A.b)\n",
    "\n",
    "a.c += 1\n",
    "print(a.c)\n",
    "\n",
    "\n",
    "\n",
    "a = A()\n",
    "#foo(1) # foo needs to be called from instance\n",
    "a.foo(1)\n",
    "#A.foo(1)\n",
    "\n",
    "#cls_foo(1) # cls_foo needs to be called from instance or class\n",
    "a.cls_foo(1)\n",
    "A.cls_foo(1)\n",
    "\n",
    "#static_foo(1) # static_foo also needs to be called from instance or class\n",
    "a.static_foo(1)\n",
    "A.static_foo(1)\n",
    "# static foo does not depend on the instance or the class, so although it is called from it, it does not otherwise depend on it."
   ]
  },
  {
   "cell_type": "code",
   "execution_count": null,
   "metadata": {},
   "outputs": [],
   "source": []
  },
  {
   "cell_type": "code",
   "execution_count": null,
   "metadata": {},
   "outputs": [],
   "source": []
  }
 ],
 "metadata": {
  "kernelspec": {
   "display_name": "Python 3",
   "language": "python",
   "name": "python3"
  },
  "language_info": {
   "codemirror_mode": {
    "name": "ipython",
    "version": 3
   },
   "file_extension": ".py",
   "mimetype": "text/x-python",
   "name": "python",
   "nbconvert_exporter": "python",
   "pygments_lexer": "ipython3",
   "version": "3.7.4"
  }
 },
 "nbformat": 4,
 "nbformat_minor": 2
}
