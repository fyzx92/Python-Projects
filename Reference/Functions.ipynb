{
 "cells": [
  {
   "cell_type": "code",
   "execution_count": null,
   "metadata": {},
   "outputs": [],
   "source": []
  },
  {
   "cell_type": "markdown",
   "metadata": {},
   "source": [
    "Defaults"
   ]
  },
  {
   "cell_type": "code",
   "execution_count": null,
   "metadata": {},
   "outputs": [],
   "source": [
    "def fun1(num1, num2 = 3):\n",
    "    return num1 + num2\n",
    "\n",
    "def fun2(num1, num2 = None):\n",
    "    if not num2: num2 = 3\n",
    "    return num1 + num2\n",
    "\n",
    "print(fun1(1))\n",
    "\n",
    "\n",
    "print(fun1(1, num2 = 2))\n",
    "\n",
    "print(fun1(1))\n",
    "\n",
    "\n",
    "print(fun2(1))\n",
    "\n",
    "\n",
    "print(fun2(1, num2 = 2))\n",
    "\n",
    "print(fun2(1))\n"
   ]
  },
  {
   "cell_type": "code",
   "execution_count": null,
   "metadata": {},
   "outputs": [],
   "source": []
  },
  {
   "cell_type": "code",
   "execution_count": null,
   "metadata": {},
   "outputs": [],
   "source": []
  },
  {
   "cell_type": "markdown",
   "metadata": {},
   "source": [
    "Passing by reference, passing by value"
   ]
  },
  {
   "cell_type": "code",
   "execution_count": null,
   "metadata": {},
   "outputs": [],
   "source": [
    "\n",
    "a = 27\n",
    "\n",
    "def foo1(b):\n",
    "    # passed by value\n",
    "    b += 2\n",
    "    \n",
    "def foo2(b):\n",
    "    # passed by value\n",
    "    b = 2\n",
    "    \n",
    "def foo3(b):\n",
    "    # passed by value\n",
    "    b += 2\n",
    "    return b\n",
    "\n",
    "def foo4(b):\n",
    "    # passed by value\n",
    "    b = 2\n",
    "    return b\n",
    "\n",
    "\n",
    "\n",
    "c = []\n",
    "\n",
    "def foo5(b):\n",
    "    # passed by reference\n",
    "    b.append(2)\n",
    "    \n",
    "def foo6(b):\n",
    "    # passed by reference\n",
    "    b += [2]\n",
    "    \n",
    "def foo7(b):\n",
    "    # passed by reference\n",
    "    return b.append(2)\n",
    "\n",
    "def foo8(b):\n",
    "    # passed by reference\n",
    "    return b + [2]\n",
    "\n",
    "def foo9(b):\n",
    "    print(f\"b is {b}\")\n",
    "    d = b\n",
    "    d.append(2)\n",
    "    print(f\"b is {b}\")\n",
    "    print(f\"d is {d}\")\n"
   ]
  },
  {
   "cell_type": "code",
   "execution_count": null,
   "metadata": {},
   "outputs": [],
   "source": []
  },
  {
   "cell_type": "markdown",
   "metadata": {},
   "source": [
    "# Lambda Functions\n",
    "These can be used to create miniature functions, such as within another function, or they can be useful as an argument to a function, as some functions take another function as an argument."
   ]
  },
  {
   "cell_type": "code",
   "execution_count": null,
   "metadata": {},
   "outputs": [],
   "source": [
    "lambda x: x**2 # maps x->x^2, can't be reused\n",
    "\n",
    "(lambda x: x**2)(4) # return 4**2, can't be reused\n",
    "\n",
    "# can assign to a variable to make it callable\n",
    "a = lambda x: x**3\n",
    "a(7) # returns 7**3 == 347\n",
    "\n"
   ]
  }
 ],
 "metadata": {
  "kernelspec": {
   "display_name": "Python 3",
   "language": "python",
   "name": "python3"
  },
  "language_info": {
   "codemirror_mode": {
    "name": "ipython",
    "version": 3
   },
   "file_extension": ".py",
   "mimetype": "text/x-python",
   "name": "python",
   "nbconvert_exporter": "python",
   "pygments_lexer": "ipython3",
   "version": "3.7.4"
  }
 },
 "nbformat": 4,
 "nbformat_minor": 2
}
