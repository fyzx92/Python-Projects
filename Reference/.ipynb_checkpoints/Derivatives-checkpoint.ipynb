{
 "cells": [
  {
   "cell_type": "markdown",
   "metadata": {},
   "source": [
    "Basic functions to calculate a derivative and gradient. Assumes that the other arguments are independent of the one being differentiated."
   ]
  },
  {
   "cell_type": "code",
   "execution_count": null,
   "metadata": {},
   "outputs": [],
   "source": [
    "def deriv(fn, val, *args):\n",
    "    \"\"\"\n",
    "    find the derivative of fn at val\n",
    "    \"\"\"\n",
    "    dx = val/1000\n",
    "    return (fn(val, args) - fn(val+dx, args))/dx\n",
    "\n",
    "def grad(fn, vals, *args):\n",
    "    \"\"\"\n",
    "    find the gradient of fn at a point\n",
    "    \"\"\"\n",
    "    ds = [v/1000 for v in vals]\n",
    "\n",
    "    return [(fn(v, args) - fn(v+dx, args))/dx for v,dx in zip(vals, ds)]\n"
   ]
  }
 ],
 "metadata": {
  "kernelspec": {
   "display_name": "Python 3",
   "language": "python",
   "name": "python3"
  },
  "language_info": {
   "codemirror_mode": {
    "name": "ipython",
    "version": 3
   },
   "file_extension": ".py",
   "mimetype": "text/x-python",
   "name": "python",
   "nbconvert_exporter": "python",
   "pygments_lexer": "ipython3",
   "version": "3.7.4"
  }
 },
 "nbformat": 4,
 "nbformat_minor": 2
}
