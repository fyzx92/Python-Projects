{
 "cells": [
  {
   "cell_type": "markdown",
   "metadata": {},
   "source": [
    "Authored by Bryce Burgess\n",
    "6/10/2019\n",
    "teach a neural network to count\n",
    "\n",
    "\n",
    "This is a simple neural network project to teach an ANN to count the number of inputs it receives. Each of the inputs should be boolean, and the output of the network should not depend on which of the inputs were stimulated, only how many. \n",
    "\n",
    "This is also practice with developing my own neural network using the pytorch framework"
   ]
  },
  {
   "cell_type": "markdown",
   "metadata": {},
   "source": [
    "Imports"
   ]
  },
  {
   "cell_type": "code",
   "execution_count": 1,
   "metadata": {},
   "outputs": [],
   "source": [
    "import torch\n",
    "import random\n",
    "import numpy as np\n"
   ]
  },
  {
   "cell_type": "markdown",
   "metadata": {},
   "source": [
    "Create some data"
   ]
  },
  {
   "cell_type": "code",
   "execution_count": 2,
   "metadata": {},
   "outputs": [],
   "source": [
    "# set some parameters\n",
    "input_length = 20\n",
    "output_length = 20\n",
    "n_entries = 100\n",
    "\n",
    "data = torch.zeros((n_entries, input_length))\n",
    "labels = torch.zeros_like(data)\n",
    "for i,j in enumerate(data):\n",
    "    # generate data\n",
    "    for k in j:\n",
    "        data[i, int(k)] = int(random.random() > 0.5)\n",
    "\n",
    "    # generate labels\n",
    "    count = sum(j)\n",
    "    labels[i, int(count)] = 1\n",
    "\n"
   ]
  },
  {
   "cell_type": "code",
   "execution_count": 5,
   "metadata": {},
   "outputs": [],
   "source": [
    "\n",
    "# network paramters\n",
    "nn_layers = (input_length, 20,20)\n",
    "\n",
    "# 20 inputs\n",
    "weights = []\n",
    "activations = []\n",
    "for i, j in enumerate(nn_layers):\n",
    "    if i == 0:\n",
    "        weights.append( torch.ones((j, nn_layers[0])) )\n",
    "    else:\n",
    "        weights.append( torch.randn((j, nn_layers[i-1])) ) \n",
    "    activations.append( torch.zeros((j, 1)))\n",
    "\n",
    "def update_activation(nn_layers, activations, weights):\n",
    "    sigmoid = lambda x: 1/(1+torch.exp(-x))\n",
    "    # cycle through layers\n",
    "    for i,j in enumerate(nn_layers):\n",
    "\n",
    "        # cycle through neurons\n",
    "        for k,l in enumerate(activations[i]):\n",
    "            s = 0\n",
    "            # cycle through weights\n",
    "            for w in weights[i, k]:\n",
    "                s += w * activations[i-1, k]\n",
    "            l = sigmoid(s)\n",
    "\n",
    "\n",
    "\n",
    "\n",
    "# training...\n",
    "\n",
    "#activations[-1].backward()\n",
    "#activations[-1].grad()"
   ]
  },
  {
   "cell_type": "code",
   "execution_count": null,
   "metadata": {},
   "outputs": [],
   "source": []
  },
  {
   "cell_type": "code",
   "execution_count": null,
   "metadata": {},
   "outputs": [],
   "source": []
  }
 ],
 "metadata": {
  "kernelspec": {
   "display_name": "Python 3",
   "language": "python",
   "name": "python3"
  },
  "language_info": {
   "codemirror_mode": {
    "name": "ipython",
    "version": 3
   },
   "file_extension": ".py",
   "mimetype": "text/x-python",
   "name": "python",
   "nbconvert_exporter": "python",
   "pygments_lexer": "ipython3",
   "version": "3.7.4"
  }
 },
 "nbformat": 4,
 "nbformat_minor": 2
}
