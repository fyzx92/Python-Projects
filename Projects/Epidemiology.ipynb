{
 "cells": [
  {
   "cell_type": "markdown",
   "metadata": {},
   "source": [
    "# Epidemiological simulation\n",
    "Basic simulation using epidemiological methods. \n",
    "\n",
    "The user should be able to set the parameters of the disease and the size and connectivity of the cities and graph, and see the results and progress of the disease.\n",
    "\n",
    "To visualize this, the graph should show nodes representing cities, where the size is proportional to the total population, and the color relates the percent of people infected. A measure of the number dead and recovered would also be insightful."
   ]
  },
  {
   "cell_type": "code",
   "execution_count": 61,
   "metadata": {},
   "outputs": [],
   "source": [
    "# Authored by Bryce Burgess\n",
    "# Epidemiological simulation\n",
    "\n",
    "import math\n",
    "import numpy as np\n",
    "import random as rand\n",
    "import networkx as nx\n",
    "\n",
    "# [ ] TODO multiple diseases\n",
    "# [x] change population based on travelers"
   ]
  },
  {
   "cell_type": "markdown",
   "metadata": {},
   "source": [
    "# Disease\n"
   ]
  },
  {
   "cell_type": "code",
   "execution_count": 70,
   "metadata": {},
   "outputs": [],
   "source": [
    "class Disease():\n",
    "    \"\"\"\n",
    "    a disease that can infect people in a city\n",
    "    \"\"\"\n",
    "    def __init__(self, _inf_prob = 0.1, _death_prob = 0.01, _rec_prob = 0.05, _rein_prob = 0.001):\n",
    "        self.infect_prob    = _inf_prob \n",
    "        self.death_prob     = _death_prob\n",
    "        self.recover_prob   = _rec_prob\n",
    "        self.reinfect_prob  = _rein_prob\n",
    "        self.research_progress = 0\n",
    "    \n",
    "    def perfectly_researched(self, Graph):\n",
    "        if self.research_progress == 100:\n",
    "            self.infect_prob = 0\n",
    "            self.death_prob = 0\n",
    "            self.recover_prob = 1\n",
    "            self.reinfect_prob = 0"
   ]
  },
  {
   "cell_type": "markdown",
   "metadata": {},
   "source": [
    "# Status\n"
   ]
  },
  {
   "cell_type": "code",
   "execution_count": 71,
   "metadata": {},
   "outputs": [],
   "source": [
    "\n",
    "# one box refers to all the people in a city with a given status\n",
    "class Box():\n",
    "    \"\"\"\n",
    "    A status or potential status for a person\n",
    "    \"\"\"\n",
    "    def __init__(self, n):\n",
    "        self.n = n\n",
    "\n",
    "    # allows for the changing of people between different boxes\n",
    "    def transfer_people(self, n_change, b):\n",
    "        \"\"\"\n",
    "        n_change: number of people to transfer\n",
    "        b: a box to transfer people to\n",
    "        \"\"\"\n",
    "        n_change = min(self.n, n_change)\n",
    "        n_change = max(n_change, 0)\n",
    "        self.n -= n_change\n",
    "        b.n += n_change\n",
    "\n"
   ]
  },
  {
   "cell_type": "markdown",
   "metadata": {},
   "source": [
    "# City/Region"
   ]
  },
  {
   "cell_type": "code",
   "execution_count": 72,
   "metadata": {},
   "outputs": [],
   "source": [
    "# one city refers to all people within a region of all statuses\n",
    "class City():\n",
    "    \"\"\"\n",
    "    A large collection of people, mix of statuses, potentially infected by disease\n",
    "    \"\"\"\n",
    "    \n",
    "    def __init__(self, n_unf, n_inf, n_rec = 0, n_dead = 0, research_rate=0, connections = []):\n",
    "        self.name = self.generate_name()\n",
    "        self.uninfected = Box(n_unf)\n",
    "        self.infected = Box(n_inf)\n",
    "        self.recovered = Box(n_rec)\n",
    "        self.dead = Box(n_dead)\n",
    "        self.research_rate = research_rate\n",
    "\n",
    "        self.total = self.uninfected.n + self.infected.n + self.recovered.n + self.dead.n\n",
    "        self.con = connections\n",
    "\n",
    "    def generate_name(self):\n",
    "        n = \"\"\n",
    "        for i in range(5):\n",
    "            n+= rand.choice(\"abcdefghijklmnopqrstuvwxyz\")\n",
    "        return n\n",
    "        \n",
    "    def update_city_status(self, disease):\n",
    "        \"\"\"\n",
    "        disease: disease that affects the city\n",
    "        \"\"\"\n",
    "        self.infect(disease)\n",
    "        self.recover(disease)\n",
    "        self.die(disease)\n",
    "        self.research(disease)\n",
    "\n",
    "    def infect(self, disease, prob_fn = \"ratio\"):\n",
    "        \"\"\"\n",
    "        disease: a disease that can infect people in a city\n",
    "        prob_fn: how to calculate the rate of infection (ratio, erf)\n",
    "        \"\"\"\n",
    "        # [ ] TODO include option to be dependent upon number dead\n",
    "        if prob_fn == \"ratio\":\n",
    "            new_infected = disease.infect_prob   * self.uninfected.n * self.infected.n/(self.uninfected.n + self.infected.n)\n",
    "            reinfected   = disease.reinfect_prob * self.recovered.n  * self.infected.n/(self.recovered.n  + self.infected.n) \n",
    "\n",
    "        elif prob_fn == \"erf\": \n",
    "            new_infected = disease.infect_prob   * self.uninfected.n * math.erf(self.infected.n/self.uninfected)\n",
    "            reinfected   = disease.reinfect_prob * self.recovered.n  * math.erf(self.infected.n/self.recovered)\n",
    "\n",
    "            self.uninfected.transfer_people(new_infected, self.infected)\n",
    "            self.recovered.transfer_people(reinfected, self.infected)\n",
    "\n",
    "    def recover(self, disease):\n",
    "        \"\"\"\n",
    "        disease: a disease that people will recover from\n",
    "        \"\"\"\n",
    "        new_recovered = disease.recover_prob * self.infected.n\n",
    "        self.infected.transfer_people(new_recovered, self.recovered)\n",
    "\n",
    "    def die(self, disease):\n",
    "        \"\"\"\n",
    "        disease: a disease that people will die of\n",
    "        \"\"\"\n",
    "        died = disease.death_prob * self.infected.n\n",
    "        self.infected.transfer_people(died, self.dead)\n",
    "\n",
    "    def research(self, disease):\n",
    "        \"\"\"\n",
    "        disease: a disease that cities can research\n",
    "        \"\"\"\n",
    "        # [ ] TODO allow for research progress\n",
    "        # is research associated only with disease? (assumes perfect communication)\n",
    "        disease.research_progress += self.research_rate\n",
    "        # is research associated with city/cities? (assumes no communication)\n",
    "        pass\n",
    "\n",
    "    # Transfer from any self box to a connection's box of same type\n",
    "    def travel(self, n_people, box1, box2):\n",
    "        \"\"\"\n",
    "        n_people: the number of people that are traveling\n",
    "        box1: the box people are traveling from\n",
    "        box2: the box people are traveling to\n",
    "        \"\"\"\n",
    "        box1.transfer_people(n_people, box2)\n",
    "        \n",
    "    def print_info(self, d):\n",
    "        print(f\"uninfected: {self.uninfected.n}\")\n",
    "        print(f\"infected: {self.infected.n}\")\n",
    "        print(f\"recovered: {self.recovered.n}\")\n",
    "        print(f\"dead: {self.dead.n}\")\n",
    "        print(f\"research for disease: {d.research_progress}\")\n",
    "\n",
    "    # [ ] TODO implement ability to conduct research with connected cities\n"
   ]
  },
  {
   "cell_type": "markdown",
   "metadata": {},
   "source": [
    "# Graph\n",
    "The graph is the representation of a connected collection of cities or regions. Connections between areas are created and removed here."
   ]
  },
  {
   "cell_type": "code",
   "execution_count": 77,
   "metadata": {},
   "outputs": [],
   "source": [
    "\n",
    "# Geographic and transportation linkage of cities\n",
    "class Graph():\n",
    "    \"\"\"\n",
    "    collection of connected cities\n",
    "    \"\"\"\n",
    "    def __init__(self, n_cities):\n",
    "        \"\"\"\n",
    "        n_cities: integer of a number of cities to include in a graph\n",
    "        \"\"\"\n",
    "        self.n = n_cities\n",
    "        self.city_list = []\n",
    "        for i in range(n_cities):\n",
    "            self.city_list.append(City(n_inf=20, n_unf=10000))\n",
    "            self.make_edges()\n",
    "\n",
    "    def make_edges(self, con_prob = 0.01):\n",
    "        self.edges = set()\n",
    "        for city1 in self.city_list:\n",
    "            for city2 in self.city_list:\n",
    "                if rand.random() < con_prob and city1 is not city2:\n",
    "                    self.edges.add((city1.name, city2.name))\n",
    "                    self.edges.add((city2.name, city1.name))\n",
    "        \n",
    "    def remove_edge(self, city1, city2, bidirectional=True):\n",
    "        \"\"\"\n",
    "        \"\"\"\n",
    "        self.edges.remove((city1.name, city2.name))\n",
    "        if bidirectional:\n",
    "            self.edges.remove((city2.name, city1.name))\n",
    "\n",
    "    def add_edge(self, city1, city2, bidirectional=True):\n",
    "        \"\"\"\n",
    "        city1: a city to create connection (source if not bidirectional)\n",
    "        city2: a city to create connection (target if not bidirectional)\n",
    "        bidirectional: determine whether all connections are mutual\n",
    "        \"\"\"\n",
    "        \n",
    "        self.edges.add((city1.name, city2.name))\n",
    "        if bidirectional:\n",
    "            self.edges.add((city2.name, city1.name))\n",
    "\n",
    "    def display(self):\n",
    "        G = nx.from_edgelist(self.edges)\n",
    "        nx.draw_networkx(G)\n"
   ]
  },
  {
   "cell_type": "markdown",
   "metadata": {},
   "source": [
    "# Initialize and run simulation"
   ]
  },
  {
   "cell_type": "code",
   "execution_count": 78,
   "metadata": {},
   "outputs": [
    {
     "data": {
      "image/png": "[encoded data removed]",
      "text/plain": [
       "<Figure size 432x288 with 1 Axes>"
      ]
     },
     "metadata": {},
     "output_type": "display_data"
    }
   ],
   "source": [
    "\n",
    "# Initialize disease\n",
    "disease = Disease()\n",
    "\n",
    "# Initialize graph\n",
    "graph = Graph(100)\n",
    "graph.make_edges()\n",
    "\n",
    "# Initialize cities in graph\n",
    "for city in graph.city_list:\n",
    "    city.__init__(100, 5)\n",
    "\n",
    "# Simulation\n",
    "for t in list(np.arange(0,100,0.1)):\n",
    "    for city in graph.city_list:\n",
    "        city.update_city_status(disease)\n",
    "        # [ ] TODO implement travel probability and conditions\n",
    "        # [ ] TODO implement research across cities\n",
    "        \n",
    "        \n",
    "graph.display()"
   ]
  }
 ],
 "metadata": {
  "kernelspec": {
   "display_name": "Python 3",
   "language": "python",
   "name": "python3"
  },
  "language_info": {
   "codemirror_mode": {
    "name": "ipython",
    "version": 3
   },
   "file_extension": ".py",
   "mimetype": "text/x-python",
   "name": "python",
   "nbconvert_exporter": "python",
   "pygments_lexer": "ipython3",
   "version": "3.7.4"
  }
 },
 "nbformat": 4,
 "nbformat_minor": 2
}
