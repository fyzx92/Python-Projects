{
 "cells": [
  {
   "cell_type": "markdown",
   "metadata": {},
   "source": [
    "# Lists\n",
    "Lists are a linear sequence of elements. The elements do not have to be the same type, and lists can be extended, elements can be added, changed, or removed."
   ]
  },
  {
   "cell_type": "code",
   "execution_count": null,
   "metadata": {},
   "outputs": [],
   "source": [
    "list1 = []\n",
    "list1.append('a')\t\t\t\t# puts 'a' into list\n",
    "list1.extend(\"\", 34, 6, list1)\t# adds sequence to list\n",
    "list1.count('a')\t\t\t\t# how many instances of 'a'\n",
    "list1.index(6)\t\t\t\t\t# lowest index w/ value 6\n",
    "list1.insert(4,'hello')\t\t\t# insert 'hello' at index 4\n",
    "list1.remove('a')\t\t\t\t# remove entry from list\n",
    "list1.pop()\t\t\t\t\t\t# remove and return last entry\n",
    "list1.pop(6)\t\t\t\t\t# remove and return designated object\n",
    "list1.reverse()\t\t\t\t\t# reverse order of list\n",
    "list1.sort()\t\t\t\t\t# sort list, use comparison fn if provided\n",
    "\n",
    "list1[0]\n",
    "len(list1)\n",
    "list1 = list1 + list2\n",
    "list1 = list1*2\n",
    "del list[3]\n",
    "6 in list\n",
    "[i for i in range(100) if i%3 == 2]\n",
    "\n"
   ]
  },
  {
   "cell_type": "markdown",
   "metadata": {},
   "source": [
    "# Tuples\n",
    "Tuples are a linear sequence of elements. The elements do not have to be the same type, and the tuple cannot be modified. Instead you can copy it into a new tuple."
   ]
  },
  {
   "cell_type": "code",
   "execution_count": null,
   "metadata": {},
   "outputs": [],
   "source": [
    "# Declaring, can include different data types\n",
    "tuple1 = ('physics', 'chemistry', 1997, 2000)\n",
    "tuple2 = (1, 2, 3, 4, 5 )\n",
    "tuple3 = \"a\", \"b\", \"c\", \"d\"\n",
    "\n",
    "tuple1[0]\t\t\t# get value at index\n",
    "tuple1 + tuple2\t\t# concatenated tuple\n",
    "tuple1*2\t\t\t# tuple concatenated with itself\n",
    "6 in tuple1\t\t\t# is 6 in tuple\n",
    "len(tuple1)\t\t\t# give tuple length\n",
    "cmp(tuple1, tuple2)\t# compare the similarity of tuples\n",
    "max(tuple1)\t\t\t# get max value of tuple\n",
    "min(tuple1)\t\t\t# get min value of tuple\n",
    "tuple1(list1)\t\t# turn list into tuple\n"
   ]
  },
  {
   "cell_type": "markdown",
   "metadata": {},
   "source": [
    "# Dictionaries\n",
    "Dictionaries are a collection of pairings between keys and values. Values are not ordered, they can only be accessed with the key. Keys can be added or removed, but not changed in place. Values can be freely changed for a given key."
   ]
  },
  {
   "cell_type": "code",
   "execution_count": null,
   "metadata": {},
   "outputs": [],
   "source": [
    "# Declare dictionary\n",
    "key = 'blah'\n",
    "value = 7\n",
    "dict1 = {key:value}\n",
    "dict1['blah']               # return value of key 'blah'\n",
    "dict1['new key'] = 32964    # create new key:value pair\n",
    "\n",
    "cmp(dict1, dict2)\n",
    "len(dict1)\t\t\t# length of dict1\n",
    "str(dict1)\t\t\t# printable string from dict1\n",
    "\n",
    "dict1.keys()\t\t# return all keys in dict1\n",
    "dict1.values()\t\t# return all values in dict1\n",
    "dict1.items()\t\t# return all (key, value) in dict1\n",
    "dict1.clear()\t\t# remove all elements from dict1\n",
    "dict1.copy()\t\t# copy dict1\n",
    "dict1.fromkeys(seq)\t# create new dict with keys in seq\n",
    "dict1.get(key)\t\t# return value of key \n",
    "dict1.setdefault()\t# \n",
    "dict1.has_key(key)\t# check if key in dict1\n",
    "dict1.update(dict2)"
   ]
  },
  {
   "cell_type": "markdown",
   "metadata": {},
   "source": [
    "# Data Frames"
   ]
  },
  {
   "cell_type": "code",
   "execution_count": null,
   "metadata": {},
   "outputs": [],
   "source": [
    "\n",
    "import pandas as pd\n",
    "import numpy as np\n",
    "\n",
    "\n",
    "dummy = np.empty((100,50))\n",
    "df = pd.DataFrame(dummy)\n",
    "\n",
    "\n",
    "\n",
    "x = 1\n",
    "y = 13\n",
    "# set rows\n",
    "# set columns\n",
    "\n",
    "# get rows\n",
    "\n",
    "df.loc[x]\n",
    "df[:,x] # invalid syntax\n",
    "df.iloc[x]\n",
    "df[:][x]\n",
    "\n",
    "# get columns\n",
    "df[y]\n",
    "df[y,:] # invalid syntax\n",
    "df[y][:]\n",
    "df.loc[:,y]\n",
    "df.iloc[:,y]\n",
    "\n",
    "# get at coordinates\n",
    "df[y].loc[x]\n",
    "df[y].iloc[x]\n",
    "df[y][x]\n",
    "\n",
    "df[y][:].loc[x]\n",
    "df[y][:].iloc[x]\n",
    "df[y][x]\n",
    "\n",
    "df.loc[:,y].loc[x]\n",
    "df.loc[:,y].iloc[x]\n",
    "df[x].loc[:,y] # invalid syntax\n",
    "df.loc[x,y]\n",
    "\n",
    "df.iloc[:,y].loc[x]\n",
    "df.iloc[:,y].iloc[x]\n",
    "df[x].iloc[:,y] # invalid syntax\n",
    "df.iloc[x,y]\n"
   ]
  },
  {
   "cell_type": "code",
   "execution_count": null,
   "metadata": {},
   "outputs": [],
   "source": []
  }
 ],
 "metadata": {
  "kernelspec": {
   "display_name": "Python 3",
   "language": "python",
   "name": "python3"
  },
  "language_info": {
   "codemirror_mode": {
    "name": "ipython",
    "version": 3
   },
   "file_extension": ".py",
   "mimetype": "text/x-python",
   "name": "python",
   "nbconvert_exporter": "python",
   "pygments_lexer": "ipython3",
   "version": "3.7.4"
  }
 },
 "nbformat": 4,
 "nbformat_minor": 2
}
