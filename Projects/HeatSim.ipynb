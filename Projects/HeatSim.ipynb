{
 "cells": [
  {
   "cell_type": "markdown",
   "metadata": {},
   "source": []
  },
  {
   "cell_type": "code",
   "execution_count": null,
   "metadata": {},
   "outputs": [],
   "source": [
    "\"\"\"\n",
    "Authored by Bryce Burgess\n",
    "\n",
    "At the particle level, why does heat rise?\n",
    "\"\"\"\n",
    "\n",
    "import scipy as sp\n",
    "import scipy.random"
   ]
  },
  {
   "cell_type": "markdown",
   "metadata": {},
   "source": []
  },
  {
   "cell_type": "code",
   "execution_count": null,
   "metadata": {},
   "outputs": [],
   "source": [
    "class Particle():\n",
    "    def __init__(self):\n",
    "        self.radius = 1\n",
    "        self.mass = 1\n",
    "        self.pos = [sp.random.random(), sp.random.random()]\n",
    "        self.vel = [sp.random.random(), sp.random.random()]\n",
    "        self.acc = [0, -1] # gravity\n",
    "        self.collisions = []\n",
    "        self.n_collisions = len(self.collisions)\n",
    "    \n",
    "    def collide(self, p, t):\n",
    "        # conservation of momentum, energy\n",
    "\n",
    "        # v1, v2, m1, m2 defined, need u1, u2\n",
    "        #v1m1 + v2m2 = u1m1 + u2m2\n",
    "        u1 = (v1*m1 +v2*m2 - u2m2)/m2\n",
    "        #1/2m1v1^2 + 1/2m2v2^2 = 1/2m1u1^2 + 1/2m2u2^2 \n",
    "        u2"
   ]
  },
  {
   "cell_type": "markdown",
   "metadata": {},
   "source": []
  },
  {
   "cell_type": "code",
   "execution_count": null,
   "metadata": {},
   "outputs": [],
   "source": []
  }
 ],
 "metadata": {
  "kernelspec": {
   "display_name": "Python 3",
   "language": "python",
   "name": "python3"
  },
  "language_info": {
   "codemirror_mode": {
    "name": "ipython",
    "version": 3
   },
   "file_extension": ".py",
   "mimetype": "text/x-python",
   "name": "python",
   "nbconvert_exporter": "python",
   "pygments_lexer": "ipython3",
   "version": "3.7.4"
  }
 },
 "nbformat": 4,
 "nbformat_minor": 2
}
