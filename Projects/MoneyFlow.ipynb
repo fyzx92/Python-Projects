{
 "cells": [
  {
   "cell_type": "markdown",
   "metadata": {},
   "source": [
    "# How does money flow?\n",
    "this is a very simplified simulation of money distribution and how the interaction between people and companies distributes it, using wages, purchases, and investments. \n",
    "\n",
    "Start with imports"
   ]
  },
  {
   "cell_type": "code",
   "execution_count": 1,
   "metadata": {},
   "outputs": [],
   "source": [
    "\"\"\"\n",
    "Authored by Bryce Burgess\n",
    "\n",
    "basic, extensible economic simulation. Where does the wealth end up? Which companies are the most powerful?\n",
    "\"\"\"\n",
    "\n",
    "import random"
   ]
  },
  {
   "cell_type": "markdown",
   "metadata": {},
   "source": [
    "# Person\n",
    "People in this simulation have a name, as an identifier, they have a job at a company, they have a group of companies that they purchase from each cycle, they get some amount of starting wealth, and they have some amount of investment in each company.\n",
    "\n",
    "Methods exist to calculate how the wealth is distributed in both the Person and Company class, to make it flexible for extending it. I know that this redundancy is not very pythonic."
   ]
  },
  {
   "cell_type": "code",
   "execution_count": 2,
   "metadata": {},
   "outputs": [],
   "source": [
    "\n",
    "class Person():\n",
    "    def __init__(self): # TODO need to initialize and constrain values\n",
    "        self.name = self.generate_name()\n",
    "        self.job = None\n",
    "        self.purchases = [] # list of companies to purchase from\n",
    "        self.wealth = 0\n",
    "        self.investments = {} # companies and relative amounts invested (constrained by wealth)\n",
    "    \n",
    "    def generate_name(self):\n",
    "        n = \"\"\n",
    "        for i in range(10):\n",
    "            n+= random.choice(\"abcdefghijklmnopqrstuvwxyz\")\n",
    "        return n\n",
    "\n",
    "    def job_payment(self):\n",
    "        self.wealth += self.job.pay_rate\n",
    "        self.job.profit -= self.job.pay_rate\n",
    "\n",
    "    def investment_returns(self):\n",
    "        for i in self.investments.keys():\n",
    "            self.wealth += self.investments[i] * i.profit * i.investors[self.name]\n",
    "\n",
    "    def purchase(self):\n",
    "        for p in self.purchases:\n",
    "            self.wealth -= p.product_price\n",
    "            p.profit += p.product_price"
   ]
  },
  {
   "cell_type": "markdown",
   "metadata": {},
   "source": [
    "# Company\n"
   ]
  },
  {
   "cell_type": "code",
   "execution_count": 3,
   "metadata": {},
   "outputs": [],
   "source": [
    "class Company():\n",
    "    def __init__(self):\n",
    "        self.name = self.generate_name()\n",
    "        self.pay_rate = 100\n",
    "        self.employees = [] # employees (could later become dictionary to assign different pay rates)\n",
    "        self.investors = {} # people and percent of profit recieved\n",
    "        self.profit = 0\n",
    "        self.product_price = 10\n",
    "    \n",
    "    def generate_name(self):\n",
    "        n = \"\"\n",
    "        for i in range(10):\n",
    "            n+= random.choice(\"abcdefghijklmnopqrstuvwxyz\")\n",
    "        return n\n",
    "        \n",
    "    def pay_employees(self):\n",
    "        for e in self.employees:\n",
    "            e.wealth += self.pay_rate\n",
    "\n",
    "    def return_investment(self):\n",
    "        for i in self.investors.keys():\n",
    "            i.wealth += self.profit * self.investors[i] * i.investments[self.name]\n",
    "        self.profit = 0\n"
   ]
  },
  {
   "cell_type": "code",
   "execution_count": null,
   "metadata": {},
   "outputs": [],
   "source": []
  },
  {
   "cell_type": "code",
   "execution_count": 20,
   "metadata": {},
   "outputs": [],
   "source": [
    "def run_simulation(duration, People, Companies):\n",
    "    for t in range(duration):\n",
    "        print(t)\n",
    "        for p in People:\n",
    "            p.purchase()\n",
    "\n",
    "        for c in Companies:\n",
    "            c.pay_employees()\n",
    "            c.return_investment()\n",
    "\n",
    "    for p in People:\n",
    "        print(p.name, p.wealth)"
   ]
  },
  {
   "cell_type": "markdown",
   "metadata": {},
   "source": [
    "# Initialize People and Companies\n"
   ]
  },
  {
   "cell_type": "code",
   "execution_count": 17,
   "metadata": {},
   "outputs": [],
   "source": [
    "\n",
    "n_people = 10\n",
    "n_companies = 3\n",
    "People = []\n",
    "Companies = []\n",
    "\n",
    "# Create people\n",
    "for i in range(n_people):\n",
    "    People.append(Person())\n",
    "\n",
    "# Create companies\n",
    "for i in range(n_companies):\n",
    "    Companies.append(Company())\n",
    "\n",
    "# Connect people and companies\n",
    "for p in People:\n",
    "    p.job = random.choice(Companies)\n",
    "    p.job.employees.append(p)\n",
    "\n",
    "    # each person makes purchases from 5 companies\n",
    "    for i in range(5): \n",
    "        p.purchases.append(random.choice(Companies))\n",
    "        p.investments[random.choice(Companies)] = random.random()\n",
    "    \n",
    "    \n",
    "    for j in p.investments.keys():\n",
    "        j.investors[p] = random.random()\n",
    "\n",
    "        \n",
    "# normalize company investments - sum to 1\n",
    "for c in Companies:\n",
    "    s = sum([v for v in c.investors.values()])\n",
    "    for i in c.investors:\n",
    "        c.investors[i] /= s"
   ]
  },
  {
   "cell_type": "code",
   "execution_count": 22,
   "metadata": {},
   "outputs": [
    {
     "data": {
      "text/plain": [
       "[<__main__.Person at 0x29b77a39d08>,\n",
       " <__main__.Person at 0x29b77a3d488>,\n",
       " <__main__.Person at 0x29b77a3d288>]"
      ]
     },
     "execution_count": 22,
     "metadata": {},
     "output_type": "execute_result"
    }
   ],
   "source": [
    "Companies[0].employees"
   ]
  },
  {
   "cell_type": "markdown",
   "metadata": {},
   "source": [
    "TODO fix keyerror with investments"
   ]
  },
  {
   "cell_type": "code",
   "execution_count": 21,
   "metadata": {},
   "outputs": [
    {
     "name": "stdout",
     "output_type": "stream",
     "text": [
      "0\n"
     ]
    },
    {
     "ename": "KeyError",
     "evalue": "'wtxhuczvrh'",
     "output_type": "error",
     "traceback": [
      "\u001b[1;31m---------------------------------------------------------------------------\u001b[0m",
      "\u001b[1;31mKeyError\u001b[0m                                  Traceback (most recent call last)",
      "\u001b[1;32m<ipython-input-21-24166c159e5d>\u001b[0m in \u001b[0;36m<module>\u001b[1;34m\u001b[0m\n\u001b[1;32m----> 1\u001b[1;33m \u001b[0mrun_simulation\u001b[0m\u001b[1;33m(\u001b[0m\u001b[1;36m100\u001b[0m\u001b[1;33m,\u001b[0m \u001b[0mPeople\u001b[0m\u001b[1;33m,\u001b[0m \u001b[0mCompanies\u001b[0m\u001b[1;33m)\u001b[0m\u001b[1;33m\u001b[0m\u001b[1;33m\u001b[0m\u001b[0m\n\u001b[0m",
      "\u001b[1;32m<ipython-input-20-be42e9c3e273>\u001b[0m in \u001b[0;36mrun_simulation\u001b[1;34m(duration, People, Companies)\u001b[0m\n\u001b[0;32m      7\u001b[0m         \u001b[1;32mfor\u001b[0m \u001b[0mc\u001b[0m \u001b[1;32min\u001b[0m \u001b[0mCompanies\u001b[0m\u001b[1;33m:\u001b[0m\u001b[1;33m\u001b[0m\u001b[1;33m\u001b[0m\u001b[0m\n\u001b[0;32m      8\u001b[0m             \u001b[0mc\u001b[0m\u001b[1;33m.\u001b[0m\u001b[0mpay_employees\u001b[0m\u001b[1;33m(\u001b[0m\u001b[1;33m)\u001b[0m\u001b[1;33m\u001b[0m\u001b[1;33m\u001b[0m\u001b[0m\n\u001b[1;32m----> 9\u001b[1;33m             \u001b[0mc\u001b[0m\u001b[1;33m.\u001b[0m\u001b[0mreturn_investment\u001b[0m\u001b[1;33m(\u001b[0m\u001b[1;33m)\u001b[0m\u001b[1;33m\u001b[0m\u001b[1;33m\u001b[0m\u001b[0m\n\u001b[0m\u001b[0;32m     10\u001b[0m \u001b[1;33m\u001b[0m\u001b[0m\n\u001b[0;32m     11\u001b[0m     \u001b[1;32mfor\u001b[0m \u001b[0mp\u001b[0m \u001b[1;32min\u001b[0m \u001b[0mPeople\u001b[0m\u001b[1;33m:\u001b[0m\u001b[1;33m\u001b[0m\u001b[1;33m\u001b[0m\u001b[0m\n",
      "\u001b[1;32m<ipython-input-3-6deef1189baf>\u001b[0m in \u001b[0;36mreturn_investment\u001b[1;34m(self)\u001b[0m\n\u001b[0;32m     20\u001b[0m     \u001b[1;32mdef\u001b[0m \u001b[0mreturn_investment\u001b[0m\u001b[1;33m(\u001b[0m\u001b[0mself\u001b[0m\u001b[1;33m)\u001b[0m\u001b[1;33m:\u001b[0m\u001b[1;33m\u001b[0m\u001b[1;33m\u001b[0m\u001b[0m\n\u001b[0;32m     21\u001b[0m         \u001b[1;32mfor\u001b[0m \u001b[0mi\u001b[0m \u001b[1;32min\u001b[0m \u001b[0mself\u001b[0m\u001b[1;33m.\u001b[0m\u001b[0minvestors\u001b[0m\u001b[1;33m.\u001b[0m\u001b[0mkeys\u001b[0m\u001b[1;33m(\u001b[0m\u001b[1;33m)\u001b[0m\u001b[1;33m:\u001b[0m\u001b[1;33m\u001b[0m\u001b[1;33m\u001b[0m\u001b[0m\n\u001b[1;32m---> 22\u001b[1;33m             \u001b[0mi\u001b[0m\u001b[1;33m.\u001b[0m\u001b[0mwealth\u001b[0m \u001b[1;33m+=\u001b[0m \u001b[0mself\u001b[0m\u001b[1;33m.\u001b[0m\u001b[0mprofit\u001b[0m \u001b[1;33m*\u001b[0m \u001b[0mself\u001b[0m\u001b[1;33m.\u001b[0m\u001b[0minvestors\u001b[0m\u001b[1;33m[\u001b[0m\u001b[0mi\u001b[0m\u001b[1;33m]\u001b[0m \u001b[1;33m*\u001b[0m \u001b[0mi\u001b[0m\u001b[1;33m.\u001b[0m\u001b[0minvestments\u001b[0m\u001b[1;33m[\u001b[0m\u001b[0mself\u001b[0m\u001b[1;33m.\u001b[0m\u001b[0mname\u001b[0m\u001b[1;33m]\u001b[0m\u001b[1;33m\u001b[0m\u001b[1;33m\u001b[0m\u001b[0m\n\u001b[0m\u001b[0;32m     23\u001b[0m         \u001b[0mself\u001b[0m\u001b[1;33m.\u001b[0m\u001b[0mprofit\u001b[0m \u001b[1;33m=\u001b[0m \u001b[1;36m0\u001b[0m\u001b[1;33m\u001b[0m\u001b[1;33m\u001b[0m\u001b[0m\n",
      "\u001b[1;31mKeyError\u001b[0m: 'wtxhuczvrh'"
     ]
    }
   ],
   "source": [
    "run_simulation(100, People, Companies)"
   ]
  },
  {
   "cell_type": "code",
   "execution_count": null,
   "metadata": {},
   "outputs": [],
   "source": []
  },
  {
   "cell_type": "code",
   "execution_count": null,
   "metadata": {},
   "outputs": [],
   "source": []
  },
  {
   "cell_type": "code",
   "execution_count": null,
   "metadata": {},
   "outputs": [],
   "source": []
  }
 ],
 "metadata": {
  "kernelspec": {
   "display_name": "Python 3",
   "language": "python",
   "name": "python3"
  },
  "language_info": {
   "codemirror_mode": {
    "name": "ipython",
    "version": 3
   },
   "file_extension": ".py",
   "mimetype": "text/x-python",
   "name": "python",
   "nbconvert_exporter": "python",
   "pygments_lexer": "ipython3",
   "version": "3.7.4"
  }
 },
 "nbformat": 4,
 "nbformat_minor": 2
}
