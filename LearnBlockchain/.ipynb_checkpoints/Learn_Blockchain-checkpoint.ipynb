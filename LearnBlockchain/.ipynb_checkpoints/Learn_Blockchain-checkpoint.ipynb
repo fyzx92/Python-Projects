{
 "cells": [
  {
   "cell_type": "markdown",
   "metadata": {},
   "source": [
    "A blockchain is a linear chain of blocks, containing information. In the case of cryptocurrencies, this information is in the form of transactions.\n",
    "\n",
    "The key form of value of a blockchain is that none of the blocks in the chain can be modified without [disconnecting, invalidating, changing downstream?].\n",
    "\n",
    "Each block in the chain includes data, a hash of the previous block, and a hash of the data.\n",
    "\n",
    "Therefore, if someone manages to change the data in a block, its own hash changes, and it creates a break in the chain, since the block that is supposed to come next no longer refers to it.\n",
    "\n",
    "To prevent someone from simply recalculating all of the downstream hashes, blockchains include a proof-of-work, in the form of something called Nonce. This is simply a number which causes the hash of the entire block to have some easily checkable property. \n",
    "\n",
    "This requires trying many many numbers (depending on the verification criterion), which slows down the creation of each block, making it prohibitively ineffective to try to edit existing blocks.\n",
    "\n",
    "Furthermore, the entire blockchain is stored in a distributed manner, meaning that each time someone tries to update the blockchain, it must agree with all the other copies of the blockchain."
   ]
  },
  {
   "cell_type": "code",
   "execution_count": null,
   "metadata": {},
   "outputs": [],
   "source": [
    "import hashlib\n",
    "import json\n",
    "from textwrap import dedent\n",
    "from time import time\n",
    "from uuid import uuid4\n",
    "from flask import Flask"
   ]
  },
  {
   "cell_type": "code",
   "execution_count": null,
   "metadata": {},
   "outputs": [],
   "source": []
  },
  {
   "cell_type": "code",
   "execution_count": null,
   "metadata": {},
   "outputs": [],
   "source": [
    "\n",
    "class Blockchain(object):\n",
    "    def ___init___(self):\n",
    "        self.chain = []\n",
    "        self.current_transactions = []\n",
    "\n",
    "        # \"genesis\" block - has no predecessor\n",
    "        self.new_block(previous_hash=1, proof=100)\n",
    "\n",
    "    def new_block(self, proof, previous_hash=None):\n",
    "        # create new block\n",
    "        # proof: <int> \n",
    "        # previous_hash: optional string hash of previous block\n",
    "        # return dictionary of new block\n",
    "        block = {\n",
    "            \"index\": len(self.chain) + 1,\n",
    "            \"timestamp\": time(),\n",
    "            \"transactions\": self.current_transactions,\n",
    "            \"proof\":proof,\n",
    "            \"previous_hash\":previous_hash or self.hash(self.chain[-1])\n",
    "        }\n",
    "        \n",
    "        # reset current list of transactions\n",
    "        self.current_transactions = []\n",
    "\n",
    "        # add block to chain\n",
    "        self.chain.append(block)\n",
    "        return block\n",
    "    \n",
    "    def new_transaction(self, sender, recipient, amount):\n",
    "        # sender: address of the sender\n",
    "        # recipient: address of recipient\n",
    "        # amount: amount\n",
    "        # return index of block that holds transaction\n",
    "\n",
    "        # Add new transaction\n",
    "        self.current_transactions.append({\n",
    "            \"sender\":sender,\n",
    "            \"recipient:recipient,\n",
    "            \"amount\":amount,\n",
    "        })\n",
    "\n",
    "        # return index of next block, where transaction is added\n",
    "        return self.last_block[\"index\"] + 1\n",
    "\n",
    "    @property\n",
    "    def last_block(self):\n",
    "        # return last block in chain\n",
    "        return self.chain[-1]\n",
    "\n",
    "    @staticmethod\n",
    "    def hash(block):\n",
    "        # hashes a block: hard to find, easy to verify, uses info from previous\n",
    "        block_string = json.dumps(block, sort_keys=True).encode()\n",
    "        return hashlib.sha256(block_string).hexdigest()\n",
    "\n",
    "    def proof_of_work(self,last_proof):\n",
    "        proof = 0\n",
    "        while self.valid_proof(last_proof, proof) is False:\n",
    "            proof +=1 # what does this do?\n",
    "        return proof\n",
    "\n",
    "    @staticmethod\n",
    "    def valid_proof(last_proof, proof):\n",
    "        # validates proof\n",
    "        # last proof: previous proof\n",
    "        # proof: current proof\n",
    "        # return: true if correct, false if not\n",
    "\n",
    "        guess = f\"{last_proof}{proof}\".encode() # don't know this syntax\n",
    "        guess_hash = hashlib.sha256(guess).hexdigest()\n",
    "        return guess_hash[:4] == \"0000\" # arbitrary constraint for validity\n",
    "\n"
   ]
  },
  {
   "cell_type": "markdown",
   "metadata": {},
   "source": []
  },
  {
   "cell_type": "code",
   "execution_count": null,
   "metadata": {},
   "outputs": [],
   "source": [
    "\n",
    "# instantiate node (???)\n",
    "app = Flask(__name__)\n",
    "\n",
    "# globally unique address for node\n",
    "node_identifier = str(uuid4()).replace(\"-\",\"\")\n",
    "\n",
    "# instantiate blockchain\n",
    "blockchain = Blockchain()\n",
    "\n",
    "@app.route(\"/mine\", methods=[\"GET\"])\n",
    "def mine():\n",
    "    return \"we'll mine a new Block\"\n",
    "\n",
    "@app.route(\"/transactions/new\", methods = [\"POST\"])\n",
    "def new_transaction():\n",
    "    return \"we'll add a new transaction\""
   ]
  },
  {
   "cell_type": "code",
   "execution_count": null,
   "metadata": {},
   "outputs": [],
   "source": []
  },
  {
   "cell_type": "code",
   "execution_count": null,
   "metadata": {},
   "outputs": [],
   "source": []
  },
  {
   "cell_type": "code",
   "execution_count": 1,
   "metadata": {},
   "outputs": [],
   "source": []
  },
  {
   "cell_type": "code",
   "execution_count": null,
   "metadata": {},
   "outputs": [],
   "source": []
  },
  {
   "cell_type": "code",
   "execution_count": null,
   "metadata": {},
   "outputs": [],
   "source": []
  }
 ],
 "metadata": {
  "kernelspec": {
   "display_name": "Python 3",
   "language": "python",
   "name": "python3"
  },
  "language_info": {
   "codemirror_mode": {
    "name": "ipython",
    "version": 3
   },
   "file_extension": ".py",
   "mimetype": "text/x-python",
   "name": "python",
   "nbconvert_exporter": "python",
   "pygments_lexer": "ipython3",
   "version": "3.7.4"
  }
 },
 "nbformat": 4,
 "nbformat_minor": 2
}
