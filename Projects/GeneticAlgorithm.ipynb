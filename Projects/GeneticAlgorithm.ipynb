{
 "cells": [
  {
   "cell_type": "markdown",
   "metadata": {},
   "source": [
    "# Genetic Algorithm\n"
   ]
  },
  {
   "cell_type": "code",
   "execution_count": null,
   "metadata": {},
   "outputs": [],
   "source": [
    "# Authored by Bryce Burgess\n",
    "\n",
    "import random\n",
    "\n",
    "class Creature(object):\n",
    "    def __init__(self, _genes):\n",
    "        \"\"\" \n",
    "        genes of this creature\n",
    "        \"\"\"\n",
    "        self.genes = Genes(_genes)\n",
    "\n",
    "    def reproduce(self,partner):\n",
    "        \"\"\"\n",
    "        partner: partner for exchanging DNA\n",
    "        \"\"\"\n",
    "        genes_passed = self.genes.copy()\n",
    "        genes_passed.crossover(partner)\n",
    "        genes_passed.mutate(prob = 0.01)\n",
    "        child = Creature(genes_passed)\n",
    "        return child\n",
    "\n",
    "    def asexual_reproduction(self):\n",
    "        genes_passed = self.genes.copy()\n",
    "        genes_passed.mutate(prob = 0.01)\n",
    "        child = Creature(genes_passed)\n",
    "        return child\n",
    "\n",
    "    def getPhenotype(self):\n",
    "        self.genes.phenotype()\n",
    "\n",
    "    def calcFitness(self, target): \n",
    "        \"\"\"\n",
    "        target: what is fitness compared to\n",
    "        \"\"\"\n",
    "        score = 0\n",
    "        for i in target:\n",
    "            if self.genes.genes[i] == target[i]:\n",
    "                score += 1\n",
    "        return score\n"
   ]
  },
  {
   "cell_type": "markdown",
   "metadata": {},
   "source": []
  },
  {
   "cell_type": "code",
   "execution_count": null,
   "metadata": {},
   "outputs": [],
   "source": [
    "class Genes(object):\n",
    "    possible_genes = [\"a\",\"b\",\"c\",\"d\",\"e\",\"f\",\"g\",\"h\",\"i\",\"j\",\"k\",\"l\",\"m\",\"n\",\"o\",\"p\",\"q\",\"r\",\"s\",\"t\",\"u\",\"v\",\"w\",\"x\",\"y\",\"z\"]\n",
    "    def __init__(self, _genes = []):\n",
    "        self.genes =_genes \n",
    "    \n",
    "    def rand_genes(self, n_genes):\n",
    "        for i in n_genes:\n",
    "            self.genes.append(random.choice(self.possible_genes))\n",
    "\n",
    "    def copy(self):\n",
    "        copy = Genes(self.genes)\n",
    "        return copy\n",
    "    \n",
    "    def crossover(self, partner):\n",
    "        midpoint = len(self.genes)//2 # calculate midpoint of genes\n",
    "        child_dna = self.copy()\n",
    "\n",
    "        for i in enumerate(self.genes):\n",
    "            if i < midpoint:\n",
    "                child_dna.genes[i] = partner.genes[i]\n",
    "\n",
    "    def mutate(self, prob):\n",
    "        \"\"\"\n",
    "        prob: probability of any given gene mutating\n",
    "        \"\"\"\n",
    "        mutated_genes = self.genes\n",
    "        for i in enumerate(mutated_genes):\n",
    "            if random.random() <= prob:\n",
    "                mutated_genes[i] = random.choice(Genes.possible_genes)\n",
    "        return mutated_genes\n",
    "\n",
    "    def phenotype(self):\n",
    "        pass\n",
    "\n",
    "    def fitness(self, env):\n",
    "        \"\"\" \n",
    "        env:what phenotype is compared to\n",
    "        \"\"\"\n",
    "        return self.phenotype() - env"
   ]
  },
  {
   "cell_type": "code",
   "execution_count": null,
   "metadata": {},
   "outputs": [],
   "source": []
  }
 ],
 "metadata": {
  "kernelspec": {
   "display_name": "Python 3",
   "language": "python",
   "name": "python3"
  },
  "language_info": {
   "codemirror_mode": {
    "name": "ipython",
    "version": 3
   },
   "file_extension": ".py",
   "mimetype": "text/x-python",
   "name": "python",
   "nbconvert_exporter": "python",
   "pygments_lexer": "ipython3",
   "version": "3.7.4"
  }
 },
 "nbformat": 4,
 "nbformat_minor": 2
}
